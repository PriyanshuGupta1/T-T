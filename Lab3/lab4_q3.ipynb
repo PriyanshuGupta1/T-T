{
 "cells": [
  {
   "cell_type": "code",
   "execution_count": 1,
   "id": "cf5eeae6",
   "metadata": {},
   "outputs": [
    {
     "name": "stdout",
     "output_type": "stream",
     "text": [
      "The shape of dataset without droping NA values:\n",
      "(10, 3)\n",
      "The shape of dataset after droping NA values:\n",
      "(8, 3)\n"
     ]
    }
   ],
   "source": [
    "import pandas as pd\n",
    "\n",
    "dataset=pd.read_csv(\"E:\\T&T\\TnT\\Lab3\\Data.csv\",index_col=0)\n",
    "print(\"The shape of dataset without droping NA values:\")\n",
    "print(dataset.shape)\n",
    "dataset1=pd.read_csv(\"E:\\T&T\\TnT\\Lab3\\Data.csv\",index_col=0)\n",
    "dataset1.dropna(axis=0,inplace=True)\n",
    "print(\"The shape of dataset after droping NA values:\")\n",
    "print(dataset1.shape)"
   ]
  },
  {
   "cell_type": "code",
   "execution_count": null,
   "id": "aba0484c",
   "metadata": {},
   "outputs": [],
   "source": []
  }
 ],
 "metadata": {
  "kernelspec": {
   "display_name": "Python 3 (ipykernel)",
   "language": "python",
   "name": "python3"
  },
  "language_info": {
   "codemirror_mode": {
    "name": "ipython",
    "version": 3
   },
   "file_extension": ".py",
   "mimetype": "text/x-python",
   "name": "python",
   "nbconvert_exporter": "python",
   "pygments_lexer": "ipython3",
   "version": "3.9.7"
  }
 },
 "nbformat": 4,
 "nbformat_minor": 5
}
